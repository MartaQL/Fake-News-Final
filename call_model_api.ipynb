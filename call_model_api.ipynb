{
 "cells": [
  {
   "cell_type": "code",
   "execution_count": null,
   "metadata": {},
   "outputs": [],
   "source": [
    "import requests\n",
    "import numpy as np\n",
    "\n",
    "API_URL = \"http://127.0.0.1:5000/invocations\"\n",
    "HEADERS = {\"Content-Type\": \"application/json\"}\n",
    "\n",
    "embedding = np.random.rand(1, 100).tolist()\n",
    "\n",
    "data = {\n",
    "\n",
    "    \"input\": embedding,\n",
    "\n",
    "       }\n",
    "\n",
    "response = requests.post(API_URL, json = data, headers = HEADERS)\n",
    "response_json = response.json()\n",
    "is_real = bool(response_json[\"predictions\"][0])\n",
    "is_real"
   ]
  }
 ],
 "metadata": {
  "kernelspec": {
   "display_name": "myenv",
   "language": "python",
   "name": "python3"
  },
  "language_info": {
   "codemirror_mode": {
    "name": "ipython",
    "version": 3
   },
   "file_extension": ".py",
   "mimetype": "text/x-python",
   "name": "python",
   "nbconvert_exporter": "python",
   "pygments_lexer": "ipython3",
   "version": "3.11.9"
  }
 },
 "nbformat": 4,
 "nbformat_minor": 2
}
