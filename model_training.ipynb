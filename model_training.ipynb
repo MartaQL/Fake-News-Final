{
 "cells": [
  {
   "cell_type": "markdown",
   "metadata": {},
   "source": [
    "# Model Training"
   ]
  },
  {
   "cell_type": "code",
   "execution_count": 1,
   "metadata": {},
   "outputs": [],
   "source": [
    "import numpy as np\n",
    "\n",
    "X = np.load('data/features.npy')\n",
    "y = np.load('data/labels.npy')"
   ]
  },
  {
   "cell_type": "code",
   "execution_count": 2,
   "metadata": {},
   "outputs": [
    {
     "data": {
      "text/plain": [
       "(71537, 100)"
      ]
     },
     "execution_count": 2,
     "metadata": {},
     "output_type": "execute_result"
    }
   ],
   "source": [
    "X.shape"
   ]
  },
  {
   "cell_type": "code",
   "execution_count": 3,
   "metadata": {},
   "outputs": [
    {
     "data": {
      "text/plain": [
       "(71537,)"
      ]
     },
     "execution_count": 3,
     "metadata": {},
     "output_type": "execute_result"
    }
   ],
   "source": [
    "y.shape"
   ]
  },
  {
   "cell_type": "code",
   "execution_count": 4,
   "metadata": {},
   "outputs": [
    {
     "data": {
      "text/plain": [
       "array([1., 1., 0., ..., 0., 0., 1.], dtype=float32)"
      ]
     },
     "execution_count": 4,
     "metadata": {},
     "output_type": "execute_result"
    }
   ],
   "source": [
    "y"
   ]
  },
  {
   "cell_type": "code",
   "execution_count": null,
   "metadata": {},
   "outputs": [],
   "source": [
    "from sklearn.model_selection import train_test_split\n",
    "\n",
    "RANDOM_SEED = 42\n",
    "\n",
    "X_train, X_test, y_train, y_test = train_test_split(X, y, test_size = 0.2, random_state = RANDOM_SEED)"
   ]
  },
  {
   "cell_type": "code",
   "execution_count": 13,
   "metadata": {},
   "outputs": [],
   "source": [
    "from sklearn.model_selection import train_test_split\n",
    "\n",
    "RANDOM_SEED = 42\n",
    "SUBSET_SIZE = 1000\n",
    "\n",
    "X_subset = X[:SUBSET_SIZE]\n",
    "y_subset = y[:SUBSET_SIZE]\n",
    "\n",
    "X_train, X_test, y_train, y_test = train_test_split(X_subset, y_subset, test_size = 0.2, random_state = RANDOM_SEED)"
   ]
  },
  {
   "cell_type": "markdown",
   "metadata": {},
   "source": [
    "## Connect to MLFlow"
   ]
  },
  {
   "cell_type": "code",
   "execution_count": 6,
   "metadata": {},
   "outputs": [
    {
     "name": "stdout",
     "output_type": "stream",
     "text": [
      "<Experiment: artifact_location='mlflow-artifacts:/381440502596330154', creation_time=1718830391813, experiment_id='381440502596330154', last_update_time=1718830391813, lifecycle_stage='active', name='fake_news_detector', tags={}>\n"
     ]
    }
   ],
   "source": [
    "import mlflow\n",
    "\n",
    "EXPERIMENT_NAME = 'fake_news_detector'\n",
    "\n",
    "experiment = mlflow.get_experiment_by_name(EXPERIMENT_NAME)\n",
    "\n",
    "print(experiment)"
   ]
  },
  {
   "cell_type": "code",
   "execution_count": 8,
   "metadata": {},
   "outputs": [
    {
     "name": "stdout",
     "output_type": "stream",
     "text": [
      "Finish\n"
     ]
    }
   ],
   "source": [
    "run_name = 'prueba'\n",
    "\n",
    "with mlflow.start_run(\n",
    "     experiment_id = experiment.experiment_id,\n",
    "     run_name = run_name,\n",
    ") as run:\n",
    "\n",
    "    print('Finish')"
   ]
  },
  {
   "cell_type": "code",
   "execution_count": 12,
   "metadata": {},
   "outputs": [
    {
     "name": "stdout",
     "output_type": "stream",
     "text": [
      "accuracy: 0.9280123008107353\n",
      "Finish\n"
     ]
    }
   ],
   "source": [
    "from sklearn.svm import SVC\n",
    "from sklearn.metrics import accuracy_score\n",
    "\n",
    "run_name = 'prueba'\n",
    "\n",
    "model = SVC(random_state = RANDOM_SEED)\n",
    "\n",
    "with mlflow.start_run(\n",
    "     experiment_id = experiment.experiment_id,\n",
    "     run_name = run_name,\n",
    ") as run:\n",
    "\n",
    "     \n",
    "     model.fit(X_train, y_train)\n",
    "\n",
    "     y_pred = model.predict(X_test)\n",
    "     accuracy = accuracy_score(y_test, y_pred)\n",
    "\n",
    "     print(f\"Accuracy: {accuracy}\")"
   ]
  },
  {
   "cell_type": "code",
   "execution_count": 14,
   "metadata": {},
   "outputs": [
    {
     "name": "stdout",
     "output_type": "stream",
     "text": [
      "Accuracy: 0.875\n"
     ]
    }
   ],
   "source": [
    "from sklearn.svm import SVC\n",
    "from sklearn.metrics import accuracy_score\n",
    "from sklearn.neural_network import MLPClassifier\n",
    "\n",
    "run_name = 'prueba_rn'\n",
    "\n",
    "model = MLPClassifier(random_state = RANDOM_SEED)\n",
    "\n",
    "with mlflow.start_run(\n",
    "     experiment_id = experiment.experiment_id,\n",
    "     run_name = run_name,\n",
    ") as run:\n",
    "\n",
    "     model.fit(X_train, y_train)\n",
    "\n",
    "     y_pred = model.predict(X_test)\n",
    "     accuracy = accuracy_score(y_test, y_pred)\n",
    "\n",
    "     print(f\"Accuracy: {accuracy}\")"
   ]
  },
  {
   "cell_type": "code",
   "execution_count": 18,
   "metadata": {},
   "outputs": [
    {
     "name": "stdout",
     "output_type": "stream",
     "text": [
      "Run ID: 1fe3467a6e474aa2b3607e1c1c32abe1\n"
     ]
    }
   ],
   "source": [
    "experiment_id = mlflow.get_experiment_by_name(EXPERIMENT_NAME).experiment_id\n",
    "\n",
    "with mlflow.start_run(\n",
    "     experiment_id = experiment_id,\n",
    "     run_name = run_name,\n",
    ") as run:\n",
    "\n",
    "\n",
    "     # set the tags\n",
    "     mlflow.set_tags({\n",
    "         \"model\": \"neural-networks\",\n",
    "         \"author\": \"MIS\",\n",
    "     })\n",
    "\n",
    "\n",
    "     # Log a parameter(key = value pair)\n",
    "     # Log the mode parameters\n",
    "     mlflow.log_param(\"random_seed\", 42)\n",
    "     mlflow.log_param(\"train_size\", 1000) \n",
    "\n",
    "     # Model training code here ...\n",
    "\n",
    "     # Log a metric; metrics can be updated through the run\n",
    "     mlflow.log_metric(\"accuracy\", 0.875)   \n",
    "\n",
    "     # Print the run ID\n",
    "     print(f\"Run ID: {run.info.run_id}\")\n"
   ]
  },
  {
   "cell_type": "code",
   "execution_count": null,
   "metadata": {},
   "outputs": [],
   "source": [
    "experiment_id = mlflow.get_experiment_by_name(EXPERIMENT_NAME).experiment_id\n",
    "\n",
    "with mlflow.start_run(\n",
    "     experiment_id = experiment_id,\n",
    "     run_name = run_name,\n",
    ") as run:\n",
    "\n",
    "     mlflow.sklearn.log_model(model, \"neural_networks\")\n",
    "     mlflow.sklearn.set_tags({\"model\": \"neural-networks\"})     \n",
    "\n",
    "\n",
    "     # Print the run ID\n",
    "     print(f\"Run ID: {run.info.run_id}\")"
   ]
  }
 ],
 "metadata": {
  "kernelspec": {
   "display_name": "myenv",
   "language": "python",
   "name": "python3"
  },
  "language_info": {
   "codemirror_mode": {
    "name": "ipython",
    "version": 3
   },
   "file_extension": ".py",
   "mimetype": "text/x-python",
   "name": "python",
   "nbconvert_exporter": "python",
   "pygments_lexer": "ipython3",
   "version": "3.11.9"
  }
 },
 "nbformat": 4,
 "nbformat_minor": 2
}
